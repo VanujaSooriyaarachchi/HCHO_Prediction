{
 "cells": [
  {
   "cell_type": "code",
   "execution_count": 10,
   "metadata": {},
   "outputs": [],
   "source": [
    "import pyspark\n",
    "import pyspark.sql  as pyspark_sql\n",
    "import pyspark.sql.types as pyspark_types\n",
    "import pyspark.sql.functions  as pyspark_functions\n",
    "from pyspark import SparkContext, SparkConf\n",
    "from pandas import isnull\n",
    "from numpy import count_nonzero\n",
    "from pyspark.sql.functions import col, count, isnan, when, coalesce, lag, lead, sum\n",
    "from pyspark.sql.window import Window\n",
    "\n",
    "import warnings\n",
    "warnings.filterwarnings(\"ignore\")"
   ]
  },
  {
   "cell_type": "code",
   "execution_count": 2,
   "metadata": {},
   "outputs": [],
   "source": [
    "# create the session\n",
    "conf = SparkConf().set(\"spark.ui.port\", \"4050\")\n",
    "\n",
    "# create the context\n",
    "sc = pyspark.SparkContext(conf=conf)\n",
    "spark = pyspark_sql.SparkSession.builder.getOrCreate()"
   ]
  },
  {
   "cell_type": "code",
   "execution_count": 3,
   "metadata": {},
   "outputs": [],
   "source": [
    "# Load the dataset\n",
    "data = spark.read.csv(\"dataset/col_mat_nuw_output.csv\", header=True, inferSchema=True)"
   ]
  },
  {
   "cell_type": "code",
   "execution_count": 4,
   "metadata": {},
   "outputs": [
    {
     "name": "stdout",
     "output_type": "stream",
     "text": [
      "root\n",
      " |-- 0.00019698343957810148: double (nullable = true)\n",
      " |-- Colombo Proper: string (nullable = true)\n",
      " |-- 2019-01-01: date (nullable = true)\n",
      " |-- 2019-01-02: date (nullable = true)\n",
      "\n"
     ]
    }
   ],
   "source": [
    "data.printSchema()"
   ]
  },
  {
   "cell_type": "code",
   "execution_count": 5,
   "metadata": {},
   "outputs": [
    {
     "name": "stdout",
     "output_type": "stream",
     "text": [
      "+----------------------+--------------+----------+----------+\n",
      "|0.00019698343957810148|Colombo Proper|2019-01-01|2019-01-02|\n",
      "+----------------------+--------------+----------+----------+\n",
      "|  2.625522171968594...|Colombo Proper|2019-01-02|2019-01-03|\n",
      "|  9.852118897938794E-5|Colombo Proper|2019-01-03|2019-01-04|\n",
      "|  2.099320518114242E-4|Colombo Proper|2019-01-04|2019-01-05|\n",
      "|  1.785337298892930...|Colombo Proper|2019-01-05|2019-01-06|\n",
      "|  1.082296700235670...|Colombo Proper|2019-01-06|2019-01-07|\n",
      "|  3.926829280477309...|Colombo Proper|2019-01-07|2019-01-08|\n",
      "|  9.153156350685351E-5|Colombo Proper|2019-01-08|2019-01-09|\n",
      "|  1.205978992853015...|Colombo Proper|2019-01-09|2019-01-10|\n",
      "|  1.297723562983258...|Colombo Proper|2019-01-10|2019-01-11|\n",
      "|  2.239188166801278...|Colombo Proper|2019-01-11|2019-01-12|\n",
      "|  1.569418094178759...|Colombo Proper|2019-01-12|2019-01-13|\n",
      "|                  NULL|Colombo Proper|2019-01-13|2019-01-14|\n",
      "|  1.336291906862603...|Colombo Proper|2019-01-14|2019-01-15|\n",
      "|  6.374417842690063E-5|Colombo Proper|2019-01-15|2019-01-16|\n",
      "|  1.181062250815020...|Colombo Proper|2019-01-16|2019-01-17|\n",
      "|  2.472555222423037...|Colombo Proper|2019-01-17|2019-01-18|\n",
      "|  3.667525352047757E-5|Colombo Proper|2019-01-18|2019-01-19|\n",
      "|  4.057500868150313E-4|Colombo Proper|2019-01-19|2019-01-20|\n",
      "|  1.687856216479722...|Colombo Proper|2019-01-20|2019-01-21|\n",
      "|  3.881549328739672...|Colombo Proper|2019-01-21|2019-01-22|\n",
      "+----------------------+--------------+----------+----------+\n",
      "only showing top 20 rows\n",
      "\n"
     ]
    }
   ],
   "source": [
    "data.show()"
   ]
  },
  {
   "cell_type": "code",
   "execution_count": 6,
   "metadata": {},
   "outputs": [
    {
     "name": "stdout",
     "output_type": "stream",
     "text": [
      "+--------------------+--------------+------------+----------+\n",
      "|        HCHO reading|      Location|Current Date| Next Date|\n",
      "+--------------------+--------------+------------+----------+\n",
      "|2.625522171968594...|Colombo Proper|  2019-01-02|2019-01-03|\n",
      "|9.852118897938794E-5|Colombo Proper|  2019-01-03|2019-01-04|\n",
      "|2.099320518114242E-4|Colombo Proper|  2019-01-04|2019-01-05|\n",
      "|1.785337298892930...|Colombo Proper|  2019-01-05|2019-01-06|\n",
      "|1.082296700235670...|Colombo Proper|  2019-01-06|2019-01-07|\n",
      "|3.926829280477309...|Colombo Proper|  2019-01-07|2019-01-08|\n",
      "|9.153156350685351E-5|Colombo Proper|  2019-01-08|2019-01-09|\n",
      "|1.205978992853015...|Colombo Proper|  2019-01-09|2019-01-10|\n",
      "|1.297723562983258...|Colombo Proper|  2019-01-10|2019-01-11|\n",
      "|2.239188166801278...|Colombo Proper|  2019-01-11|2019-01-12|\n",
      "|1.569418094178759...|Colombo Proper|  2019-01-12|2019-01-13|\n",
      "|                NULL|Colombo Proper|  2019-01-13|2019-01-14|\n",
      "|1.336291906862603...|Colombo Proper|  2019-01-14|2019-01-15|\n",
      "|6.374417842690063E-5|Colombo Proper|  2019-01-15|2019-01-16|\n",
      "|1.181062250815020...|Colombo Proper|  2019-01-16|2019-01-17|\n",
      "|2.472555222423037...|Colombo Proper|  2019-01-17|2019-01-18|\n",
      "|3.667525352047757E-5|Colombo Proper|  2019-01-18|2019-01-19|\n",
      "|4.057500868150313E-4|Colombo Proper|  2019-01-19|2019-01-20|\n",
      "|1.687856216479722...|Colombo Proper|  2019-01-20|2019-01-21|\n",
      "|3.881549328739672...|Colombo Proper|  2019-01-21|2019-01-22|\n",
      "+--------------------+--------------+------------+----------+\n",
      "only showing top 20 rows\n",
      "\n"
     ]
    }
   ],
   "source": [
    "column_names = ['HCHO reading', 'Location', 'Current Date', 'Next Date']\n",
    "\n",
    "# Rename columns using withColumnRenamed()\n",
    "for i, new_name in enumerate(column_names):\n",
    "    data = data.withColumnRenamed(data.columns[i], new_name)\n",
    "\n",
    "# Display the DataFrame\n",
    "data.show()"
   ]
  },
  {
   "cell_type": "code",
   "execution_count": 15,
   "metadata": {},
   "outputs": [
    {
     "name": "stdout",
     "output_type": "stream",
     "text": [
      "+-------------------+\n",
      "|           Location|\n",
      "+-------------------+\n",
      "|   Deniyaya, Matara|\n",
      "|     Colombo Proper|\n",
      "|Nuwara Eliya Proper|\n",
      "+-------------------+\n",
      "\n"
     ]
    }
   ],
   "source": [
    "# Check unique values of cities\n",
    "unique_cities = data.select(\"Location\").distinct()\n",
    "unique_cities.show()"
   ]
  },
  {
   "cell_type": "code",
   "execution_count": 16,
   "metadata": {},
   "outputs": [
    {
     "name": "stdout",
     "output_type": "stream",
     "text": [
      "+-------+--------------------+\n",
      "|summary|        HCHO reading|\n",
      "+-------+--------------------+\n",
      "|  count|                5477|\n",
      "|   mean|1.202803756272528E-4|\n",
      "| stddev|1.021701071134199...|\n",
      "|    min|-2.59296176552668...|\n",
      "|    max|8.997101837438971E-4|\n",
      "+-------+--------------------+\n",
      "\n"
     ]
    }
   ],
   "source": [
    "# Describe the 'HCHO reading' column\n",
    "data.select('HCHO reading').describe().show()"
   ]
  },
  {
   "cell_type": "code",
   "execution_count": 9,
   "metadata": {},
   "outputs": [
    {
     "name": "stdout",
     "output_type": "stream",
     "text": [
      "+------------+--------+------------+---------+\n",
      "|HCHO reading|Location|Current Date|Next Date|\n",
      "+------------+--------+------------+---------+\n",
      "|        2419|       0|           0|        0|\n",
      "+------------+--------+------------+---------+\n",
      "\n"
     ]
    }
   ],
   "source": [
    "# Check for null values in the DataFrame\n",
    "data.select([count(when(col(c).isNull(), c)).alias(c) for c in data.columns]).show()"
   ]
  },
  {
   "cell_type": "code",
   "execution_count": 12,
   "metadata": {},
   "outputs": [],
   "source": [
    "# Initialize a counter for null values\n",
    "null_count = data.filter(col(\"HCHO Reading\").isNull()).count()\n",
    "\n",
    "# Continue the process until there are no nulls left\n",
    "while null_count > 0:\n",
    "    # Define the window specifications\n",
    "    backward_windowSpec = Window.orderBy(\"Current Date\")\n",
    "    forward_windowSpec = Window.orderBy(\"Current Date\")\n",
    "    \n",
    "    # Use lag to carry the last observation forward\n",
    "    previous_value = lag(\"HCHO Reading\", 1).over(backward_windowSpec)\n",
    "    data = data.withColumn(\"HCHO Reading\", coalesce(\"HCHO Reading\", previous_value))\n",
    "    \n",
    "    # Use lead to carry the next observation backward\n",
    "    next_value = lead(\"HCHO Reading\", 1).over(forward_windowSpec)\n",
    "    data = data.withColumn(\"HCHO Reading\", coalesce(\"HCHO Reading\", next_value))\n",
    "    \n",
    "    # Update the null count\n",
    "    null_count = data.filter(col(\"HCHO Reading\").isNull()).count()\n",
    "\n",
    "# cmn_data now has the nulls filled using a combination of LOCF and NOCB"
   ]
  },
  {
   "cell_type": "code",
   "execution_count": 13,
   "metadata": {},
   "outputs": [
    {
     "name": "stdout",
     "output_type": "stream",
     "text": [
      "+--------------------+-------------------+------------+----------+\n",
      "|        HCHO Reading|           Location|Current Date| Next Date|\n",
      "+--------------------+-------------------+------------+----------+\n",
      "|2.625522171968594...|   Deniyaya, Matara|  2019-01-01|2019-01-02|\n",
      "|2.625522171968594...|Nuwara Eliya Proper|  2019-01-01|2019-01-02|\n",
      "|2.625522171968594...|     Colombo Proper|  2019-01-02|2019-01-03|\n",
      "|5.803530712000793E-6|   Deniyaya, Matara|  2019-01-02|2019-01-03|\n",
      "|5.803530712000793E-6|Nuwara Eliya Proper|  2019-01-02|2019-01-03|\n",
      "|9.852118897938794E-5|     Colombo Proper|  2019-01-03|2019-01-04|\n",
      "|2.362357772653922...|   Deniyaya, Matara|  2019-01-03|2019-01-04|\n",
      "|1.908293886956784...|Nuwara Eliya Proper|  2019-01-03|2019-01-04|\n",
      "|2.099320518114242E-4|     Colombo Proper|  2019-01-04|2019-01-05|\n",
      "|6.437245753953118E-5|   Deniyaya, Matara|  2019-01-04|2019-01-05|\n",
      "|5.097625917127737...|Nuwara Eliya Proper|  2019-01-04|2019-01-05|\n",
      "|1.785337298892930...|     Colombo Proper|  2019-01-05|2019-01-06|\n",
      "|5.349707092885017E-5|   Deniyaya, Matara|  2019-01-05|2019-01-06|\n",
      "|6.456645496655256E-5|Nuwara Eliya Proper|  2019-01-05|2019-01-06|\n",
      "|1.082296700235670...|     Colombo Proper|  2019-01-06|2019-01-07|\n",
      "|1.315594859189690...|   Deniyaya, Matara|  2019-01-06|2019-01-07|\n",
      "|8.982348709518115E-5|Nuwara Eliya Proper|  2019-01-06|2019-01-07|\n",
      "|3.926829280477309...|     Colombo Proper|  2019-01-07|2019-01-08|\n",
      "|6.269859896976347E-5|   Deniyaya, Matara|  2019-01-07|2019-01-08|\n",
      "|4.097797651418246E-5|Nuwara Eliya Proper|  2019-01-07|2019-01-08|\n",
      "+--------------------+-------------------+------------+----------+\n",
      "only showing top 20 rows\n",
      "\n"
     ]
    }
   ],
   "source": [
    "data.show()"
   ]
  },
  {
   "cell_type": "code",
   "execution_count": 17,
   "metadata": {},
   "outputs": [
    {
     "name": "stdout",
     "output_type": "stream",
     "text": [
      "+------------+--------+------------+---------+\n",
      "|HCHO Reading|Location|Current Date|Next Date|\n",
      "+------------+--------+------------+---------+\n",
      "|           0|       0|           0|        0|\n",
      "+------------+--------+------------+---------+\n",
      "\n"
     ]
    }
   ],
   "source": [
    "# Count null values in each column\n",
    "null_counts = data.select([sum(col(c).isNull().cast(\"int\")).alias(c) for c in data.columns])\n",
    "null_counts.show()"
   ]
  },
  {
   "cell_type": "code",
   "execution_count": 18,
   "metadata": {},
   "outputs": [
    {
     "name": "stdout",
     "output_type": "stream",
     "text": [
      "+--------------------+-------------------+------------+----------+\n",
      "|        HCHO Reading|           Location|Current Date| Next Date|\n",
      "+--------------------+-------------------+------------+----------+\n",
      "|2.625522171968594...|   Deniyaya, Matara|  2019-01-01|2019-01-02|\n",
      "|2.625522171968594...|Nuwara Eliya Proper|  2019-01-01|2019-01-02|\n",
      "|2.625522171968594...|     Colombo Proper|  2019-01-02|2019-01-03|\n",
      "|5.803530712000793E-6|   Deniyaya, Matara|  2019-01-02|2019-01-03|\n",
      "|5.803530712000793E-6|Nuwara Eliya Proper|  2019-01-02|2019-01-03|\n",
      "|9.852118897938794E-5|     Colombo Proper|  2019-01-03|2019-01-04|\n",
      "|2.362357772653922...|   Deniyaya, Matara|  2019-01-03|2019-01-04|\n",
      "|1.908293886956784...|Nuwara Eliya Proper|  2019-01-03|2019-01-04|\n",
      "|2.099320518114242E-4|     Colombo Proper|  2019-01-04|2019-01-05|\n",
      "|6.437245753953118E-5|   Deniyaya, Matara|  2019-01-04|2019-01-05|\n",
      "|5.097625917127737...|Nuwara Eliya Proper|  2019-01-04|2019-01-05|\n",
      "|1.785337298892930...|     Colombo Proper|  2019-01-05|2019-01-06|\n",
      "|5.349707092885017E-5|   Deniyaya, Matara|  2019-01-05|2019-01-06|\n",
      "|6.456645496655256E-5|Nuwara Eliya Proper|  2019-01-05|2019-01-06|\n",
      "|1.082296700235670...|     Colombo Proper|  2019-01-06|2019-01-07|\n",
      "|1.315594859189690...|   Deniyaya, Matara|  2019-01-06|2019-01-07|\n",
      "|8.982348709518115E-5|Nuwara Eliya Proper|  2019-01-06|2019-01-07|\n",
      "|3.926829280477309...|     Colombo Proper|  2019-01-07|2019-01-08|\n",
      "|6.269859896976347E-5|   Deniyaya, Matara|  2019-01-07|2019-01-08|\n",
      "|4.097797651418246E-5|Nuwara Eliya Proper|  2019-01-07|2019-01-08|\n",
      "+--------------------+-------------------+------------+----------+\n",
      "only showing top 20 rows\n",
      "\n"
     ]
    }
   ],
   "source": [
    "# Drop rows with any null values\n",
    "data_cleaned = data.na.drop()\n",
    "\n",
    "# Show the cleaned DataFrame\n",
    "data_cleaned.show()\n"
   ]
  },
  {
   "cell_type": "code",
   "execution_count": 19,
   "metadata": {},
   "outputs": [
    {
     "name": "stdout",
     "output_type": "stream",
     "text": [
      "Length of DataFrame: 5477\n"
     ]
    }
   ],
   "source": [
    "# Count the number of rows in the DataFrame\n",
    "data_count = data.count()\n",
    "\n",
    "# Show the length of the DataFrame\n",
    "print(\"Length of DataFrame:\", data_count)"
   ]
  }
 ],
 "metadata": {
  "kernelspec": {
   "display_name": "Python 3",
   "language": "python",
   "name": "python3"
  },
  "language_info": {
   "codemirror_mode": {
    "name": "ipython",
    "version": 3
   },
   "file_extension": ".py",
   "mimetype": "text/x-python",
   "name": "python",
   "nbconvert_exporter": "python",
   "pygments_lexer": "ipython3",
   "version": "3.12.2"
  },
  "orig_nbformat": 4
 },
 "nbformat": 4,
 "nbformat_minor": 2
}
